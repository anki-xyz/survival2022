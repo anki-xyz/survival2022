{
 "cells": [
  {
   "cell_type": "code",
   "execution_count": 26,
   "metadata": {},
   "outputs": [],
   "source": [
    "import numpy as np\n",
    "import matplotlib.pyplot as plt\n",
    "%matplotlib inline\n",
    "from nutil.plot import paperStyle\n",
    "import seaborn as sns"
   ]
  },
  {
   "cell_type": "code",
   "execution_count": 23,
   "metadata": {},
   "outputs": [],
   "source": [
    "x = np.linspace(0, 6 * np.pi, 100)\n",
    "y = 4 * x + 2 \n",
    "y += np.random.random(y.size)*25 # added some noise because this is what you normally get"
   ]
  },
  {
   "cell_type": "markdown",
   "metadata": {},
   "source": [
    "Not needed when you use `nutil`"
   ]
  },
  {
   "cell_type": "code",
   "execution_count": 50,
   "metadata": {},
   "outputs": [],
   "source": [
    "plt.rcParams['font.sans-serif'] = ['Arial']\n",
    "plt.rcParams['pdf.fonttype'] = 42\n",
    "plt.rcParams['svg.fonttype'] = 'none'"
   ]
  },
  {
   "cell_type": "code",
   "execution_count": 60,
   "metadata": {},
   "outputs": [
    {
     "data": {
      "image/png": "[encoded data removed]",
      "text/plain": [
       "<Figure size 144x108 with 1 Axes>"
      ]
     },
     "metadata": {},
     "output_type": "display_data"
    }
   ],
   "source": [
    "with paperStyle():\n",
    "    plt.figure(figsize=(2, 1.5)) # sorry guys but this in inch\n",
    "\n",
    "    plt.scatter(x, y, s=5, alpha=.1)\n",
    "\n",
    "    plt.plot(x, 4*x+2 + 0.5*25, color='k', lw=0.5)\n",
    "\n",
    "    plt.xticks([0, 5, 10, 15, 20])\n",
    "    plt.yticks([0, 25, 50, 75, 100])\n",
    "\n",
    "    # Please add appropriate labels with THEIR UNITS!\n",
    "    plt.xlabel(\"Protein x [au]\")\n",
    "    plt.ylabel(\"Protein y [au]\")\n",
    "\n",
    "    plt.tight_layout()\n",
    "\n",
    "    # Getting rid of the extra borders that we do not need\n",
    "    # Gestalt principle of closure: check if that is maintained!\n",
    "    sns.despine(trim=False)\n",
    "\n",
    "    plt.savefig(\"plot1.pdf\", bbox_inches='tight')"
   ]
  },
  {
   "cell_type": "code",
   "execution_count": 62,
   "metadata": {},
   "outputs": [],
   "source": [
    "X = np.random.random((10,10))"
   ]
  },
  {
   "cell_type": "code",
   "execution_count": 68,
   "metadata": {},
   "outputs": [
    {
     "data": {
      "image/png": "[encoded data removed]",
      "text/plain": [
       "<Figure size 144x108 with 2 Axes>"
      ]
     },
     "metadata": {},
     "output_type": "display_data"
    }
   ],
   "source": [
    "with paperStyle():\n",
    "    plt.figure(figsize=(2, 1.5))\n",
    "    \n",
    "    plt.imshow(X-.5, cmap='PiYG')\n",
    "    \n",
    "    plt.colorbar()"
   ]
  }
 ],
 "metadata": {
  "kernelspec": {
   "display_name": "Python 3 (ipykernel)",
   "language": "python",
   "name": "python3"
  },
  "language_info": {
   "codemirror_mode": {
    "name": "ipython",
    "version": 3
   },
   "file_extension": ".py",
   "mimetype": "text/x-python",
   "name": "python",
   "nbconvert_exporter": "python",
   "pygments_lexer": "ipython3",
   "version": "3.9.13"
  }
 },
 "nbformat": 4,
 "nbformat_minor": 2
}
